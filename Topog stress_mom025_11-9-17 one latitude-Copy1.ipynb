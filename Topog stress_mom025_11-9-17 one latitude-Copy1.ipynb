{
 "cells": [
  {
   "cell_type": "markdown",
   "metadata": {},
   "source": [
    "# Topog form stress using MOM025 DATA\n",
    "\n",
    "Recent update 11 Sept 2017"
   ]
  },
  {
   "cell_type": "code",
   "execution_count": 1,
   "metadata": {
    "collapsed": true
   },
   "outputs": [],
   "source": [
    "%matplotlib inline\n",
    "\n",
    "import numpy as np\n",
    "import matplotlib.pyplot as plt\n",
    "from netCDF4 import Dataset\n",
    "import os\n",
    "import pickle\n",
    "from numpy import math\n",
    "\n",
    "import pandas as pd\n",
    "import xarray as xr\n",
    "from glob import glob\n",
    "from mpl_toolkits.basemap import Basemap, shiftgrid\n"
   ]
  },
  {
   "cell_type": "markdown",
   "metadata": {},
   "source": [
    "# Load Data"
   ]
  },
  {
   "cell_type": "code",
   "execution_count": 2,
   "metadata": {},
   "outputs": [
    {
     "name": "stdout",
     "output_type": "stream",
     "text": [
      "CPU times: user 0 ns, sys: 0 ns, total: 0 ns\n",
      "Wall time: 6.91 µs\n"
     ]
    },
    {
     "name": "stderr",
     "output_type": "stream",
     "text": [
      "/g/data3/hh5/public/apps/miniconda3/envs/analysis27/lib/python2.7/site-packages/xarray/conventions.py:393: RuntimeWarning: Unable to decode time axis into full numpy.datetime64 objects, continuing using dummy netCDF4.datetime objects instead, reason: dates out of range\n",
      "  result = decode_cf_datetime(example_value, units, calendar)\n",
      "/g/data3/hh5/public/apps/miniconda3/envs/analysis27/lib/python2.7/site-packages/xarray/conventions.py:412: RuntimeWarning: Unable to decode time axis into full numpy.datetime64 objects, continuing using dummy netCDF4.datetime objects instead, reason: dates out of range\n",
      "  calendar=self.calendar)\n"
     ]
    }
   ],
   "source": [
    "## Load data\n",
    "\n",
    "%time\n",
    "OceanFile1 = '/g/data3/hh5/tmp/cosima/access-om2-025/025deg_jra55_ryf_spinup7/output000/ocean/ocean_grid.nc'\n",
    "dsx1 = xr.open_dataset(OceanFile1, engine='netcdf4')\n",
    "kmt = dsx1.kmt.isel(yt_ocean=217).astype(np.int64)  # \"number of depth levels on t-grid\"\n",
    "depth = -dsx1.ht.isel(yt_ocean=217)   ## H\n",
    "dxu = dsx1.dxu ## dxu\n",
    "\n",
    "OceanFile2 =  '/g/data3/hh5/tmp/cosima/access-om2-025/025deg_jra55_ryf_spinup7/output000/ocean/ocean_month.nc'\n",
    "dsx2 = xr.open_dataset(OceanFile2, engine='netcdf4')\n",
    "taux = dxu*dsx2.tau_x.mean('time')  ## tau_x\n",
    "pbot = dsx2.pbot_t.mean('time').isel(yt_ocean=217)     ## p_bot\n",
    "eta0 = dsx2.eta_t.mean('time') ## \\eta\n",
    "eta = dsx2.sea_level.mean('time') ## sea_level\n",
    "\n",
    "OceanFile3 =  '/g/data3/hh5/tmp/cosima/access-om2-025/025deg_jra55_ryf_spinup7/output000/ocean/ocean.nc'\n",
    "dsx3 = xr.open_dataset(OceanFile3, engine='netcdf4')\n",
    "rho = dsx3.rho.mean('time').isel(yt_ocean=217)        ## \\rho in-situ\n",
    "dz = dsx3.dzt.mean('time').isel(yt_ocean=217)      ## t-cell thickness\n",
    "g = 9.8"
   ]
  },
  {
   "cell_type": "markdown",
   "metadata": {},
   "source": [
    "## Step 1: \n",
    "## define water thickness as h: $h = -\\int dz$\n",
    "## define bottom pressure as p: $p = \\int \\rho*g*dz$"
   ]
  },
  {
   "cell_type": "code",
   "execution_count": 156,
   "metadata": {
    "collapsed": true
   },
   "outputs": [],
   "source": [
    "h = -dz.sum('st_ocean')\n",
    "\n",
    "dp = rho*g*dz\n",
    "p = dp.sum('st_ocean')"
   ]
  },
  {
   "cell_type": "markdown",
   "metadata": {},
   "source": [
    "## Step 2:\n",
    "## Calculate $\\sum p*\\Delta z$"
   ]
  },
  {
   "cell_type": "code",
   "execution_count": 175,
   "metadata": {},
   "outputs": [],
   "source": [
    "z=np.zeros(kmt.shape).astype(np.int64) \n",
    "z[:]=kmt[:].values-1\n",
    "dp = 0\n",
    "\n",
    "pb=np.zeros(p.shape)\n",
    "pb[:]=p[:].values\n",
    "\n",
    "for x in range(1386,1387):\n",
    "    dkmt1=kmt.isel(xt_ocean=x)-kmt.isel(xt_ocean=x-1)\n",
    "    if dkmt1==0:\n",
    "        dz1=dz[z[x],x-1]\n",
    "        dz2=dz[z[x],x]\n",
    "        if (dz1-dz2)<0:\n",
    "            rho1=rho[z[x],x]\n",
    "            dp=dp+(pb[x]*(dz2-dz1)-g*rho1*(dz2-dz1)**2/2)\n",
    "        elif (dz1-dz2)>0:\n",
    "            rho1=rho[z[x-1],x-1]\n",
    "            dp=dp-(pb[x-1]*(dz1-dz2)-g*rho1*(dz2-dz1)**2/2)\n",
    "    elif dkmt1==1:\n",
    "        rho1=rho[z[x],x]\n",
    "        dz1=dz[z[x],x]\n",
    "        rho2=rho[z[x]-1,x]\n",
    "        dz2=dz[z[x]-1,x] - dz[z[x]-1,x-1]\n",
    "        dp=dp+(pb[x]*(dz1+dz2)-g*rho1*dz1*dz2-g*rho1*(dz1)**2/2-g*rho2*(dz2)**2/2)\n",
    "    elif dkmt1==-1:\n",
    "        rho1=rho[z[x-1],x-1]\n",
    "        dz1=dz[z[x-1],x-1]\n",
    "        rho2=rho[z[x-1]-1,x-1]\n",
    "        dz2=dz[z[x-1]-1,x-1] - dz[z[x-1]-1,x]\n",
    "        dp=dp-(pb[x-1]*(dz1+dz2)-g*rho1*dz1*dz2-g*rho1*(dz1)**2/2-g*rho2*(dz2)**2/2)\n",
    "    elif dkmt1==2:\n",
    "        rho1=rho[z[x],x]\n",
    "        dz1=dz[z[x],x]\n",
    "        rho2=rho[z[x]-1,x]\n",
    "        dz2=dz[z[x]-1,x]\n",
    "        rho3=rho[z[x]-2,x]\n",
    "        dz3=dz[z[x]-2,x]- dz[z[x]-2,x-1]\n",
    "        dp=dp+(pb[x]*(dz1+dz2+dz3)-g*rho1*dz1*(dz2+dz3)-g*rho2*dz2*(dz3)-g*rho1*(dz1)**2/2-g*rho2*(dz2)**2/2-g*rho3*(dz3)**2/2)\n",
    "    elif dkmt1==-2:\n",
    "        rho1=rho[z[x-1],x-1]\n",
    "        dz1=dz[z[x-1],x-1]\n",
    "        rho2=rho[z[x-1]-1,x-1]\n",
    "        dz2=dz[z[x-1]-1,x-1]\n",
    "        rho3=rho[z[x-1]-2,x-1]\n",
    "        dz3=dz[z[x-1]-2,x-1]- dz[z[x-1]-2,x]\n",
    "        dp=dp-(pb[x-1]*(dz1+dz2+dz3)-g*rho1*dz1*(dz2+dz3)-g*rho2*dz2*(dz3)-g*rho1*(dz1)**2/2-g*rho2*(dz2)**2/2-g*rho3*(dz3)**2/2)       \n",
    "    elif dkmt1==3:\n",
    "        rho1=rho[z[x],x]\n",
    "        dz1=dz[z[x],x]\n",
    "        rho2=rho[z[x]-1,x]\n",
    "        dz2=dz[z[x]-1,x]\n",
    "        rho3=rho[z[x]-2,x]\n",
    "        dz3=dz[z[x]-2,x]\n",
    "        rho4=rho[z[x]-3,x]\n",
    "        dz4=dz[z[x]-3,x]- dz[z[x]-3,x-1]\n",
    "        dp=dp+(pb[x]*(dz1+dz2+dz3+dz4)-g*rho1*dz1*(dz2+dz3+dz4)-g*rho2*dz2*(dz3+dz4)-g*rho3*dz3*(dz4)-g*rho1*(dz1)**2/2-g*rho2*(dz2)**2/2-g*rho3*(dz3)**2/2-g*rho4*(dz4)**2/2)        \n",
    "    elif dkmt1==-3:\n",
    "        rho1=rho[z[x-1],x-1]\n",
    "        dz1=dz[z[x-1],x-1]\n",
    "        rho2=rho[z[x-1]-1,x-1]\n",
    "        dz2=dz[z[x-1]-1,x-1]\n",
    "        rho3=rho[z[x-1]-2,x-1]\n",
    "        dz3=dz[z[x-1]-2,x-1]\n",
    "        rho4=rho[z[x-1]-3,x-1]\n",
    "        dz4=dz[z[x-1]-3,x-1]- dz[z[x-1]-3,x]\n",
    "        dp=dp-(pb[x-1]*(dz1+dz2+dz3+dz4)-g*rho1*dz1*(dz2+dz3+dz4)-g*rho2*dz2*(dz3+dz4)-g*rho3*dz3*(dz4)-g*rho1*(dz1)**2/2-g*rho2*(dz2)**2/2-g*rho3*(dz3)**2/2-g*rho4*(dz4)**2/2)\n",
    "    elif dkmt1==4:\n",
    "        rho1=rho[z[x],x]\n",
    "        dz1=dz[z[x],x]\n",
    "        rho2=rho[z[x]-1,x]\n",
    "        dz2=dz[z[x]-1,x]\n",
    "        rho3=rho[z[x]-2,x]\n",
    "        dz3=dz[z[x]-2,x]\n",
    "        rho4=rho[z[x]-3,x]\n",
    "        dz4=dz[z[x]-3,x]        \n",
    "        rho5=rho[z[x]-4,x]\n",
    "        dz5=dz[z[x]-4,x]- dz[z[x]-4,x-1]\n",
    "        dp=dp+(pb[x]*(dz1+dz2+dz3+dz4+dz5)-g*rho1*dz1*(dz2+dz3+dz4+dz5)-g*rho2*dz2*(dz3+dz4+dz5)-g*rho3*dz3*(dz4+dz5)-g*rho4*dz4*(dz5)-g*rho1*(dz1)**2/2-g*rho2*(dz2)**2/2-g*rho3*(dz3)**2/2-g*rho4*(dz4)**2/2-g*rho5*(dz5)**2/2)\n",
    "    elif dkmt1==-4:\n",
    "        rho1=rho[z[x-1],x-1]\n",
    "        dz1=dz[z[x-1],x-1]\n",
    "        rho2=rho[z[x-1]-1,x-1]\n",
    "        dz2=dz[z[x-1]-1,x-1]\n",
    "        rho3=rho[z[x-1]-2,x-1]\n",
    "        dz3=dz[z[x-1]-2,x-1]\n",
    "        rho4=rho[z[x-1]-3,x-1]\n",
    "        dz4=dz[z[x-1]-3,x-1]        \n",
    "        rho5=rho[z[x-1]-4,x-1]\n",
    "        dz5=dz[z[x-1]-4,x-1]- dz[z[x-1]-4,x]\n",
    "        dp=dp-(pb[x-1]*(dz1+dz2+dz3+dz4+dz5)-g*rho1*dz1*(dz2+dz3+dz4+dz5)-g*rho2*dz2*(dz3+dz4+dz5)-g*rho3*dz3*(dz4+dz5)-g*rho4*dz4*(dz5)-g*rho1*(dz1)**2/2-g*rho2*(dz2)**2/2-g*rho3*(dz3)**2/2-g*rho4*(dz4)**2/2-g*rho5*(dz5)**2/2)\n",
    "    elif dkmt1==5:\n",
    "        rho1=rho[z[x],x]\n",
    "        dz1=dz[z[x],x]\n",
    "        rho2=rho[z[x]-1,x]\n",
    "        dz2=dz[z[x]-1,x]\n",
    "        rho3=rho[z[x]-2,x]\n",
    "        dz3=dz[z[x]-2,x]\n",
    "        rho4=rho[z[x]-3,x]\n",
    "        dz4=dz[z[x]-3,x]    \n",
    "        rho5=rho[z[x]-4,x]\n",
    "        dz5=dz[z[x]-4,x]\n",
    "        rho6=rho[z[x]-5,x]\n",
    "        dz6=dz[z[x]-5,x]- dz[z[x]-5,x-1]\n",
    "        dp=dp+(pb[x]*(dz1+dz2+dz3+dz4+dz5+dz6)-g*rho1*dz1*(dz2+dz3+dz4+dz5+dz6)-g*rho2*dz2*(dz3+dz4+dz5+dz6)-g*rho3*dz3*(dz4+dz5+dz6)-g*rho4*dz4*(dz5+dz6)-g*rho5*dz5*(dz6)-g*rho1*(dz1)**2/2-g*rho2*(dz2)**2/2-g*rho3*(dz3)**2/2-g*rho4*(dz4)**2/2-g*rho5*(dz5)**2/2-g*rho6*(dz6)**2/2)         \n",
    "    elif dkmt1==-5:\n",
    "        rho1=rho[z[x-1],x-1]\n",
    "        dz1=dz[z[x-1],x-1]\n",
    "        rho2=rho[z[x-1]-1,x-1]\n",
    "        dz2=dz[z[x-1]-1,x-1]\n",
    "        rho3=rho[z[x-1]-2,x-1]\n",
    "        dz3=dz[z[x-1]-2,x-1]\n",
    "        rho4=rho[z[x-1]-3,x-1]\n",
    "        dz4=dz[z[x-1]-3,x-1]    \n",
    "        rho5=rho[z[x-1]-4,x-1]\n",
    "        dz5=dz[z[x-1]-4,x-1]\n",
    "        rho6=rho[z[x-1]-5,x-1]\n",
    "        dz6=dz[z[x-1]-5,x-1]- dz[z[x-1]-5,x]\n",
    "        dp=dp-(pb[x-1]*(dz1+dz2+dz3+dz4+dz5+dz6)-g*rho1*dz1*(dz2+dz3+dz4+dz5+dz6)-g*rho2*dz2*(dz3+dz4+dz5+dz6)-g*rho3*dz3*(dz4+dz5+dz6)-g*rho4*dz4*(dz5+dz6)-g*rho5*dz5*(dz6)-g*rho1*(dz1)**2/2-g*rho2*(dz2)**2/2-g*rho3*(dz3)**2/2-g*rho4*(dz4)**2/2-g*rho5*(dz5)**2/2-g*rho6*(dz6)**2/2)         \n",
    "    elif dkmt1==-7:\n",
    "        rho1=rho[z[x-1],x-1]\n",
    "        dz1=dz[z[x-1],x-1]\n",
    "        rho2=rho[z[x-1]-1,x-1]\n",
    "        dz2=dz[z[x-1]-1,x-1]\n",
    "        rho3=rho[z[x-1]-2,x-1]\n",
    "        dz3=dz[z[x-1]-2,x-1]\n",
    "        rho4=rho[z[x-1]-3,x-1]\n",
    "        dz4=dz[z[x-1]-3,x-1]    \n",
    "        rho5=rho[z[x-1]-4,x-1]\n",
    "        dz5=dz[z[x-1]-4,x-1]\n",
    "        rho6=rho[z[x-1]-5,x-1]\n",
    "        dz6=dz[z[x-1]-5,x-1]\n",
    "        rho7=rho[z[x-1]-6,x-1]\n",
    "        dz7=dz[z[x-1]-6,x-1]        \n",
    "        rho8=rho[z[x-1]-7,x-1]\n",
    "        dz8=dz[z[x-1]-7,x-1]- dz[z[x-1]-7,x]\n",
    "        dp=dp-(pb[x-1]*(dz1+dz2+dz3+dz4+dz5+dz6+dz7+dz8)-g*rho1*dz1*(dz2+dz3+dz4+dz5+dz6+dz7+dz8)-g*rho2*dz2*(dz3+dz4+dz5+dz6+dz7+dz8)-g*rho3*dz3*(dz4+dz5+dz6+dz7+dz8)-g*rho4*dz4*(dz5+dz6+dz7+dz8)-g*rho5*dz5*(dz6+dz7+dz8)-g*rho6*dz6*(dz7+dz8)-g*rho7*dz7*(dz8)-g*rho1*(dz1)**2/2-g*rho2*(dz2)**2/2-g*rho3*(dz3)**2/2-g*rho4*(dz4)**2/2-g*rho5*(dz5)**2/2-g*rho6*(dz6)**2/2-g*rho7*(dz7)**2/2-g*rho8*(dz8)**2/2)         \n",
    "    elif dkmt1==9:\n",
    "        rho1=rho[z[x],x]\n",
    "        dz1=dz[z[x],x]\n",
    "        rho2=rho[z[x]-1,x]\n",
    "        dz2=dz[z[x]-1,x]\n",
    "        rho3=rho[z[x]-2,x]\n",
    "        dz3=dz[z[x]-2,x]\n",
    "        rho4=rho[z[x]-3,x]\n",
    "        dz4=dz[z[x]-3,x]    \n",
    "        rho5=rho[z[x]-4,x]\n",
    "        dz5=dz[z[x]-4,x]\n",
    "        rho6=rho[z[x]-5,x]\n",
    "        dz6=dz[z[x]-5,x]\n",
    "        rho7=rho[z[x]-6,x]\n",
    "        dz7=dz[z[x]-6,x] \n",
    "        rho8=rho[z[x]-7,x]\n",
    "        dz8=dz[z[x]-7,x]\n",
    "        rho9=rho[z[x]-8,x]\n",
    "        dz9=dz[z[x]-8,x]        \n",
    "        rho10=rho[z[x]-9,x]\n",
    "        dz10=dz[z[x]-9,x]- dz[z[x]-9,x-1]\n",
    "        dp=dp+(pb[x]*(dz1+dz2+dz3+dz4+dz5+dz6+dz7+dz8+dz9+dz10)-g*rho1*dz1*(dz2+dz3+dz4+dz5+dz6+dz7+dz8+dz9+dz10)-g*rho2*dz2*(dz3+dz4+dz5+dz6+dz7+dz8+dz9+dz10)-g*rho3*dz3*(dz4+dz5+dz6+dz7+dz8+dz9+dz10)-g*rho4*dz4*(dz5+dz6+dz7+dz8+dz9+dz10)-g*rho5*dz5*(dz6+dz7+dz8+dz9+dz10)-g*rho6*dz6*(dz7+dz8+dz9+dz10)-g*rho7*dz7*(dz8+dz9+dz10)-g*rho8*dz8*(dz9+dz10)-g*rho9*dz9*(dz10)-g*rho1*(dz1)**2/2-g*rho2*(dz2)**2/2-g*rho3*(dz3)**2/2-g*rho4*(dz4)**2/2-g*rho5*(dz5)**2/2-g*rho6*(dz6)**2/2-g*rho7*(dz7)**2/2-g*rho8*(dz8)**2/2-g*rho9*(dz9)**2/2-g*rho10*(dz10)**2/2)                                   \n",
    "       "
   ]
  },
  {
   "cell_type": "code",
   "execution_count": 176,
   "metadata": {},
   "outputs": [
    {
     "data": {
      "text/plain": [
       "<xarray.DataArray 'kmt' ()>\n",
       "array(-3)\n",
       "Coordinates:\n",
       "    yt_ocean  float64 -57.23\n",
       "    geolat_t  float64 -57.23"
      ]
     },
     "execution_count": 176,
     "metadata": {},
     "output_type": "execute_result"
    }
   ],
   "source": [
    "dkmt1"
   ]
  },
  {
   "cell_type": "code",
   "execution_count": 177,
   "metadata": {},
   "outputs": [
    {
     "data": {
      "text/plain": [
       "<xarray.DataArray ()>\n",
       "array(-19696360825.294518)\n",
       "Coordinates:\n",
       "    xt_ocean  float64 66.38\n",
       "    yt_ocean  float64 -57.23\n",
       "    st_ocean  float64 3.3e+03"
      ]
     },
     "execution_count": 177,
     "metadata": {},
     "output_type": "execute_result"
    }
   ],
   "source": [
    "dp"
   ]
  },
  {
   "cell_type": "code",
   "execution_count": 190,
   "metadata": {},
   "outputs": [
    {
     "data": {
      "text/plain": [
       "<xarray.DataArray 'dzt' ()>\n",
       "array(36.831298828125)\n",
       "Coordinates:\n",
       "    yt_ocean  float64 -57.23\n",
       "    st_ocean  float64 3.3e+03"
      ]
     },
     "execution_count": 190,
     "metadata": {},
     "output_type": "execute_result"
    }
   ],
   "source": [
    "dz4"
   ]
  },
  {
   "cell_type": "code",
   "execution_count": 191,
   "metadata": {},
   "outputs": [
    {
     "data": {
      "text/plain": [
       "<xarray.DataArray ()>\n",
       "array(-19696360825.294518)\n",
       "Coordinates:\n",
       "    yt_ocean  float64 -57.23\n",
       "    xt_ocean  float64 66.38\n",
       "    st_ocean  float64 3.3e+03"
      ]
     },
     "execution_count": 191,
     "metadata": {},
     "output_type": "execute_result"
    }
   ],
   "source": [
    "z=42\n",
    "x=1386\n",
    "\n",
    "-(pb[x-1]*(dz[z,x-1]+dz[z-1,x-1]+dz[z-2,x-1]+dz[z-3,x-1]-dz[z-3,x])-g*rho[z,x-1]*dz[z,x-1]*(dz[z-1,x-1]+dz[z-2,x-1]+dz[z-3,x-1]-dz[z-3,x])-g*rho[z-1,x-1]*dz[z-1,x-1]*(dz[z-2,x-1]+dz[z-3,x-1]-dz[z-3,x])-g*rho[z-2,x-1]*dz[z-2,x-1]*(dz[z-3,x-1]-dz[z-3,x])-g*rho[z,x-1]*(dz[z,x-1])**2/2-g*rho[z-1,x-1]*(dz[z-1,x-1])**2/2-g*rho[z-2,x-1]*(dz[z-2,x-1])**2/2-g*rho[z-3,x-1]*(dz[z-3,x-1]-dz[z-3,x])**2/2)"
   ]
  },
  {
   "cell_type": "code",
   "execution_count": 162,
   "metadata": {},
   "outputs": [
    {
     "data": {
      "text/plain": [
       "<xarray.DataArray 'dzt' ()>\n",
       "array(36.2744140625)\n",
       "Coordinates:\n",
       "    xt_ocean  float64 70.88\n",
       "    yt_ocean  float64 -57.23\n",
       "    st_ocean  float64 1.498e+03"
      ]
     },
     "execution_count": 162,
     "metadata": {},
     "output_type": "execute_result"
    }
   ],
   "source": [
    "dz[z,x]"
   ]
  },
  {
   "cell_type": "code",
   "execution_count": null,
   "metadata": {
    "collapsed": true
   },
   "outputs": [],
   "source": []
  },
  {
   "cell_type": "code",
   "execution_count": 116,
   "metadata": {},
   "outputs": [
    {
     "data": {
      "text/plain": [
       "<xarray.DataArray 'dzt' ()>\n",
       "array(148.01780700683594)\n",
       "Coordinates:\n",
       "    xt_ocean  float64 71.88\n",
       "    yt_ocean  float64 -57.23\n",
       "    st_ocean  float64 1.875e+03"
      ]
     },
     "execution_count": 116,
     "metadata": {},
     "output_type": "execute_result"
    }
   ],
   "source": [
    "dz2"
   ]
  },
  {
   "cell_type": "code",
   "execution_count": 61,
   "metadata": {},
   "outputs": [
    {
     "data": {
      "text/plain": [
       "<xarray.DataArray 'dzt' ()>\n",
       "array(205.3374786376953)\n",
       "Coordinates:\n",
       "    xt_ocean  float64 67.88\n",
       "    yt_ocean  float64 -57.23\n",
       "    st_ocean  float64 2.679e+03"
      ]
     },
     "execution_count": 61,
     "metadata": {},
     "output_type": "execute_result"
    }
   ],
   "source": [
    "dz1"
   ]
  },
  {
   "cell_type": "code",
   "execution_count": null,
   "metadata": {
    "collapsed": true
   },
   "outputs": [],
   "source": []
  },
  {
   "cell_type": "code",
   "execution_count": null,
   "metadata": {
    "collapsed": true
   },
   "outputs": [],
   "source": []
  }
 ],
 "metadata": {
  "kernelspec": {
   "display_name": "Python [default]",
   "language": "python",
   "name": "python2"
  },
  "language_info": {
   "codemirror_mode": {
    "name": "ipython",
    "version": 2
   },
   "file_extension": ".py",
   "mimetype": "text/x-python",
   "name": "python",
   "nbconvert_exporter": "python",
   "pygments_lexer": "ipython2",
   "version": "2.7.13"
  }
 },
 "nbformat": 4,
 "nbformat_minor": 2
}
