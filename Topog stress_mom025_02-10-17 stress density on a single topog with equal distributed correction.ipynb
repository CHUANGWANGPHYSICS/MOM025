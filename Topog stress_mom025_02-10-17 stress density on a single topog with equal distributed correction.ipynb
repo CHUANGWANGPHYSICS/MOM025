{
 "cells": [
  {
   "cell_type": "markdown",
   "metadata": {},
   "source": [
    "# Topog form stress using MOM025 DATA\n",
    "\n",
    "Recent update 01 Oct 2017"
   ]
  },
  {
   "cell_type": "code",
   "execution_count": 2,
   "metadata": {},
   "outputs": [],
   "source": [
    "%matplotlib inline\n",
    "\n",
    "import numpy as np\n",
    "import matplotlib.pyplot as plt\n",
    "from netCDF4 import Dataset\n",
    "import os\n",
    "import pickle\n",
    "from numpy import math\n",
    "\n",
    "import pandas as pd\n",
    "import xarray as xr\n",
    "from glob import glob\n",
    "from mpl_toolkits.basemap import Basemap, shiftgrid\n"
   ]
  },
  {
   "cell_type": "markdown",
   "metadata": {},
   "source": [
    "# Load Data"
   ]
  },
  {
   "cell_type": "markdown",
   "metadata": {},
   "source": [
    "## All difference between dht and $\\sum dz$ are equally added upto each partial cell."
   ]
  },
  {
   "cell_type": "code",
   "execution_count": 3,
   "metadata": {},
   "outputs": [
    {
     "name": "stderr",
     "output_type": "stream",
     "text": [
      "/g/data3/hh5/public/apps/miniconda3/envs/analysis27/lib/python2.7/site-packages/xarray/conventions.py:393: RuntimeWarning: Unable to decode time axis into full numpy.datetime64 objects, continuing using dummy netCDF4.datetime objects instead, reason: dates out of range\n",
      "  result = decode_cf_datetime(example_value, units, calendar)\n",
      "/g/data3/hh5/public/apps/miniconda3/envs/analysis27/lib/python2.7/site-packages/xarray/conventions.py:412: RuntimeWarning: Unable to decode time axis into full numpy.datetime64 objects, continuing using dummy netCDF4.datetime objects instead, reason: dates out of range\n",
      "  calendar=self.calendar)\n"
     ]
    }
   ],
   "source": [
    "g = 9.8\n",
    "\n",
    "OceanFile1 = '/g/data3/hh5/tmp/cosima/access-om2-025/025deg_jra55_ryf_spinup7/output100/ocean/ocean_grid.nc'\n",
    "dsx1 = xr.open_dataset(OceanFile1, engine='netcdf4')\n",
    "\n",
    "OceanFile2 =  '/g/data3/hh5/tmp/cosima/access-om2-025/025deg_jra55_ryf_spinup7/output100/ocean/ocean_month.nc'\n",
    "dsx2 = xr.open_dataset(OceanFile2, engine='netcdf4')\n",
    "\n",
    "OceanFile3 =  '/g/data3/hh5/tmp/cosima/access-om2-025/025deg_jra55_ryf_spinup7/output100/ocean/ocean.nc'\n",
    "dsx3 = xr.open_dataset(OceanFile3, engine='netcdf4')\n",
    "\n",
    "pf=np.zeros([50,1080,1440])# store pbot*dz in each z-cell\n",
    "mark=np.zeros([50,1080,1440]) \n",
    "\n",
    "for yy in range(217,218):\n",
    "    kmt = dsx1.kmt.isel(yt_ocean=yy)    # \"number of depth levels on t-grid\"\n",
    "    depth = dsx1.ht.isel(yt_ocean=yy)   # ht, depth\n",
    "    pbot = dsx2.pbot_t.mean('time').isel(yt_ocean=yy)   # p_bot\n",
    "    dz = dsx3.dzt.mean('time').isel(yt_ocean=yy)        # t-cell thickness\n",
    "    rho = dsx3.rho.mean('time').isel(yt_ocean=yy)       # \\rho in-situ    \n",
    "    z=np.zeros(kmt.shape).astype(np.int64)              # define z initial\n",
    "    z[:]=kmt[:].values-1                # layer number z[x]             \n",
    "    for x in range(0,1440):\n",
    "        if (z[x]>-1)&(z[x-1]>-1):      # x & x-1 are not continent landmasses  \n",
    "            if z[x]-z[x-1]==0:\n",
    "                dz1=depth[x-1]-depth[x]\n",
    "                if dz1<0:\n",
    "                    rhom=rho[z[x],x]\n",
    "                    pf[z[x-1],yy,x-1]=pf[z[x-1],yy,x-1]+(10000*pbot[x]*(-dz1)-g*rhom*(dz1)**2/2) \n",
    "                elif (dz1)>0:\n",
    "                    rhom=rho[z[x-1],x-1]\n",
    "                    pf[z[x],yy,x]=pf[z[x],yy,x]-(10000*pbot[x-1]*(dz1)-g*rhom*(dz1)**2/2)\n",
    "            else:\n",
    "                if depth[x]-depth[x-1]>0:\n",
    "                    dz1=depth[x]-depth[x-1]   # total depth difference\n",
    "                    dzz = (depth[x]-depth[x-1]-np.sum(dz[z[x-1]:z[x]+1,x]) + dz[z[x-1],x-1])/(z[x]-z[x-1]+1)  # correction          \n",
    "                    pa=10000*pbot[x]          # choose pbot pressure\n",
    "                    zm=dz[z[x],x]+dzz             # dz of lowest layer\n",
    "                    rhom=rho[z[x],x]          # density\n",
    "                    pm = pa-zm*g*rhom/2       #pressure at middle of each partial cell\n",
    "                    pf[z[x],yy,x-1]=pf[z[x],yy,x-1]+pm*zm\n",
    "                    pa=pa-zm*g*rhom           #update press reference to upper partial cell\n",
    "                    dz1=dz1-zm                    \n",
    "                    for i in range(1,z[x]-z[x-1]):  #calculate from bottom partial cell in each layer             \n",
    "                        zm=dz[z[x]-i,x]+dzz        \n",
    "                        rhom=rho[z[x]-i,x]          #density\n",
    "                        pm = pa-zm*g*rhom/2         #pressure at middle of each partial cell\n",
    "                        pf[z[x]-i,yy,x-1]=pf[z[x]-i,yy,x-1]+pm*zm\n",
    "                        mark[z[x]-i,yy,x-1]=1-mark[z[x]-i,yy,x-1]\n",
    "                        pa=pa-zm*g*rhom             #update press reference to upper partial cell\n",
    "                    zm=dz[z[x-1],x]-dz[z[x-1],x-1]+dzz\n",
    "                    rhom=rho[z[x-1],x]                \n",
    "                    pm = pa-zm*g*rhom/2\n",
    "                    pf[z[x-1],yy,x-1]=pf[z[x-1],yy,x-1]+pm*zm \n",
    "                    mark[z[x-1],yy,x-1]=1-mark[z[x-1],yy,x-1]\n",
    "                elif depth[x]-depth[x-1]<0:\n",
    "                    dz1=depth[x-1]-depth[x]\n",
    "                    pa=10000*pbot[x-1]\n",
    "                    dzz = (depth[x-1]-depth[x]-np.sum(dz[z[x]:z[x-1]+1,x-1])+dz[z[x],x])/(z[x-1]-z[x]+1) \n",
    "                    zm=dz[z[x-1],x-1]+dzz\n",
    "                    rhom=rho[z[x-1],x-1]\n",
    "                    pm = pa-zm*g*rhom/2\n",
    "                    pf[z[x-1],yy,x]=pf[z[x-1],yy,x]-pm*zm\n",
    "                    pa=pa-zm*g*rhom \n",
    "                    dz1=dz1-zm\n",
    "                    for i in range(1,z[x-1]-z[x]):\n",
    "                        zm=dz[z[x-1]-i,x-1]+dzz\n",
    "                        rhom=rho[z[x-1]-i,x-1]\n",
    "                        pm = pa-zm*g*rhom/2\n",
    "                        pf[z[x-1]-i,yy,x]=pf[z[x-1]-i,yy,x]-pm*zm\n",
    "                        mark[z[x-1]-i,yy,x]=mark[z[x-1]-i,yy,x]-1\n",
    "                        pa=pa-zm*g*rhom \n",
    "                        dz1=dz1-zm\n",
    "                    zm=dz[z[x],x-1]-dz[z[x],x]+dzz\n",
    "                    rhom=rho[z[x],x-1]                \n",
    "                    pm = pa-zm*g*rhom/2\n",
    "                    pf[z[x],yy,x]=pf[z[x],yy,x]-pm*zm\n",
    "                    mark[z[x],yy,x]=mark[z[x],yy,x]-1\n",
    "        elif (z[x]==0)&(z[x-1]<-1):      # only x-1 is continent landmass\n",
    "            pa=10000*pbot[x]\n",
    "            for i in range(0,z[x]+1):\n",
    "                zm=dz[z[x]-i,x]\n",
    "                rhom=rho[z[x]-i,x]\n",
    "                pm = pa-zm*g*rhom/2\n",
    "                pf[z[x]-i,yy,x-1]=pf[z[x]-i,yy,x-1]+pm*zm\n",
    "                pa=pa-zm*g*rho\n",
    "        elif (z[x]>0)&(z[x-1]<-1):      # only x-1 is continent landmass\n",
    "            pa=10000*pbot[x]\n",
    "            for i in range(0,z[x]+1):\n",
    "                zm=dz[z[x]-i,x]\n",
    "                rhom=rho[z[x]-i,x]\n",
    "                pm = pa-zm*g*rhom/2\n",
    "                pf[z[x]-i,yy,x-1]=pf[z[x]-i,yy,x-1]+pm*zm\n",
    "                mark[z[x]-i,yy,x-1]=1-mark[z[x]-i,yy,x-1]\n",
    "                pa=pa-zm*g*rhom\n",
    "            mark[z[x],yy,x-1]=0\n",
    "        elif (z[x]<-1)&(z[x-1]==0):     # only x is continent landmass\n",
    "            pa=10000*pbot[x-1]\n",
    "            for i in range(0,z[x-1]+1):\n",
    "                zm=dz[z[x-1]-i,x-1]\n",
    "                rhom=rho[z[x-1]-i,x-1]\n",
    "                pm = pa-zm*g*rhom/2\n",
    "                pf[z[x-1]-i,yy,x]=pf[z[x-1]-i,yy,x]-pm*zm\n",
    "                pa=pa-zm*g*rhom                                   \n",
    "        elif (z[x]<-1)&(z[x-1]>0):     # only x is continent landmass\n",
    "            pa=10000*pbot[x-1]\n",
    "            for i in range(0,z[x-1]+1):\n",
    "                zm=dz[z[x-1]-i,x-1]\n",
    "                rhom=rho[z[x-1]-i,x-1]\n",
    "                pm = pa-zm*g*rhom/2\n",
    "                pf[z[x-1]-i,yy,x]=pf[z[x-1]-i,yy,x]-pm*zm\n",
    "                mark[z[x-1]-i,yy,x]=mark[z[x-1]-i,yy,x]-1\n",
    "                pa=pa-zm*g*rhom\n",
    "            mark[z[x-1],yy,x]=0"
   ]
  },
  {
   "cell_type": "code",
   "execution_count": 4,
   "metadata": {},
   "outputs": [],
   "source": [
    "p_dens=np.zeros([50,1080,1440])\n",
    "\n",
    "for yy in range(217,218):\n",
    "    dx=dsx1.dxt.isel(yt_ocean=yy).max('xt_ocean').values\n",
    "    zloc1,xloc1=np.where(mark[:,yy,:]==1)\n",
    "    zloc2,xloc2=np.where(mark[:,yy,:]==-1)\n",
    "    zloc3,xloc3=np.where(mark[:,yy,:]==2)\n",
    "    unique, counts = np.unique(zloc1, return_counts=True)\n",
    "    tmp=0\n",
    "    x1=0\n",
    "    x2=0\n",
    "    for j in range(0,len(unique)):\n",
    "        zloc=unique[j]\n",
    "        zlen=counts[j]            \n",
    "        if xloc1[tmp]-xloc2[tmp] >0:\n",
    "            for k in range(0,zlen):\n",
    "                x1=xloc1[tmp+k]\n",
    "                x2=xloc2[tmp+k] \n",
    "                p_dens[zloc,yy,x2:x1+1]=np.sum(pf[zloc,yy,x2:x1+1])/dx/(x1+1-x2)\n",
    "        elif xloc1[tmp]-xloc2[tmp] <0:\n",
    "            x1=xloc1[tmp]\n",
    "            x2=xloc2[tmp+zlen-1]\n",
    "            p_dens[zloc,yy,0:x1+1]=(np.sum(pf[zloc,yy,0:x1+1])+np.sum(pf[zloc,yy,x2:]))/dx/(x1+1-x2+1440)           \n",
    "            p_dens[zloc,yy,x2:]=(np.sum(pf[zloc,yy,0:x1+1])+np.sum(pf[zloc,yy,x2:]))/dx/(x1+1-x2+1440)                       \n",
    "            for k in range(1,zlen):\n",
    "                x1=xloc1[tmp+k]\n",
    "                x2=xloc2[tmp+k-1]\n",
    "                p_dens[zloc,yy,x2:x1+1]=np.sum(pf[zloc,yy,x2:x1+1])/dx/(x1+1-x2)\n",
    "        tmp=tmp+zlen\n",
    "    for n in range(0,len(zloc3)):\n",
    "        p_dens[zloc3[n],yy,xloc3[n]]=pf[zloc3[n],yy,xloc3[n]]/dx\n",
    "    p_dens[np.amax(zloc1)+1,yy,:]=np.sum(pf[np.amax(zloc1)+1,yy,:])/dx/1440\n",
    "    "
   ]
  },
  {
   "cell_type": "markdown",
   "metadata": {},
   "source": [
    "## Check the correction of the data"
   ]
  },
  {
   "cell_type": "code",
   "execution_count": 5,
   "metadata": {},
   "outputs": [
    {
     "data": {
      "text/plain": [
       "181229.37286949158"
      ]
     },
     "execution_count": 5,
     "metadata": {},
     "output_type": "execute_result"
    }
   ],
   "source": [
    "np.sum(pf[:,yy,:])"
   ]
  },
  {
   "cell_type": "code",
   "execution_count": 6,
   "metadata": {},
   "outputs": [
    {
     "data": {
      "text/plain": [
       "181229.37286455606"
      ]
     },
     "execution_count": 6,
     "metadata": {},
     "output_type": "execute_result"
    }
   ],
   "source": [
    "np.sum(p_dens[:,yy,:])*dx"
   ]
  },
  {
   "cell_type": "markdown",
   "metadata": {},
   "source": [
    "## Plot $\\Delta p*\\Delta z /\\Delta x$ in a single topog"
   ]
  },
  {
   "cell_type": "code",
   "execution_count": 26,
   "metadata": {},
   "outputs": [
    {
     "data": {
      "text/plain": [
       "<matplotlib.colorbar.Colorbar at 0x7f09d53f78d0>"
      ]
     },
     "execution_count": 26,
     "metadata": {},
     "output_type": "execute_result"
    },
    {
     "data": {
      "image/png": "[encoded data removed]",
      "text/plain": [
       "<matplotlib.figure.Figure at 0x7f09d53f7910>"
      ]
     },
     "metadata": {},
     "output_type": "display_data"
    }
   ],
   "source": [
    "plt.matshow(p_dens[30:38,yy,1386:1412],cmap='seismic',vmin=-20,vmax=20)\n",
    "plt.xlabel('longtitude (67E to 73E)')\n",
    "plt.ylabel('layer number (kmt=30:40)')\n",
    "plt.colorbar(label='$\\Delta p\\Delta z/\\Delta x$ (N/m**2)')"
   ]
  },
  {
   "cell_type": "code",
   "execution_count": null,
   "metadata": {},
   "outputs": [],
   "source": []
  }
 ],
 "metadata": {
  "kernelspec": {
   "display_name": "Python [default]",
   "language": "python",
   "name": "python2"
  },
  "language_info": {
   "codemirror_mode": {
    "name": "ipython",
    "version": 2
   },
   "file_extension": ".py",
   "mimetype": "text/x-python",
   "name": "python",
   "nbconvert_exporter": "python",
   "pygments_lexer": "ipython2",
   "version": "2.7.13"
  }
 },
 "nbformat": 4,
 "nbformat_minor": 2
}
