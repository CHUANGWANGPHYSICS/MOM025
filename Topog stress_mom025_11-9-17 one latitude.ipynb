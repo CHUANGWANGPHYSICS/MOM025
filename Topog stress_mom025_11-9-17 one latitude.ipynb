{
 "cells": [
  {
   "cell_type": "markdown",
   "metadata": {},
   "source": [
    "# Topog form stress using MOM025 DATA\n",
    "\n",
    "Recent update 11 Sept 2017"
   ]
  },
  {
   "cell_type": "code",
   "execution_count": 8,
   "metadata": {
    "collapsed": true
   },
   "outputs": [],
   "source": [
    "%matplotlib inline\n",
    "\n",
    "import numpy as np\n",
    "import matplotlib.pyplot as plt\n",
    "from netCDF4 import Dataset\n",
    "import os\n",
    "import pickle\n",
    "from numpy import math\n",
    "\n",
    "import pandas as pd\n",
    "import xarray as xr\n",
    "from glob import glob\n",
    "from mpl_toolkits.basemap import Basemap, shiftgrid\n"
   ]
  },
  {
   "cell_type": "markdown",
   "metadata": {},
   "source": [
    "# Load Data"
   ]
  },
  {
   "cell_type": "code",
   "execution_count": 24,
   "metadata": {},
   "outputs": [
    {
     "name": "stdout",
     "output_type": "stream",
     "text": [
      "CPU times: user 0 ns, sys: 0 ns, total: 0 ns\n",
      "Wall time: 5.96 µs\n"
     ]
    }
   ],
   "source": [
    "## Load data\n",
    "\n",
    "%time\n",
    "OceanFile1 = '/g/data3/hh5/tmp/cosima/access-om2-025/025deg_jra55_ryf_spinup7/output100/ocean/ocean_grid.nc'\n",
    "dsx1 = xr.open_dataset(OceanFile1, engine='netcdf4')\n",
    "kmt = dsx1.kmt.isel(yt_ocean=217).astype(np.int64)  # \"number of depth levels on t-grid\"\n",
    "depth = -dsx1.ht.isel(yt_ocean=217)   ## H\n",
    "dxu = dsx1.dxu ## dxu\n",
    "\n",
    "OceanFile2 =  '/g/data3/hh5/tmp/cosima/access-om2-025/025deg_jra55_ryf_spinup7/output100/ocean/ocean_month.nc'\n",
    "dsx2 = xr.open_dataset(OceanFile2, engine='netcdf4')\n",
    "taux = dxu*dsx2.tau_x.mean('time')  ## tau_x\n",
    "pbot = dsx2.pbot_t.mean('time').isel(yt_ocean=217)     ## p_bot\n",
    "eta0 = dsx2.eta_t.mean('time') ## \\eta\n",
    "eta = dsx2.sea_level.mean('time') ## sea_level\n",
    "\n",
    "OceanFile3 =  '/g/data3/hh5/tmp/cosima/access-om2-025/025deg_jra55_ryf_spinup7/output100/ocean/ocean.nc'\n",
    "dsx3 = xr.open_dataset(OceanFile3, engine='netcdf4')\n",
    "rho = dsx3.rho.mean('time').isel(yt_ocean=217)        ## \\rho in-situ\n",
    "dz = dsx3.dzt.mean('time').isel(yt_ocean=217)      ## t-cell thickness\n",
    "g = 9.8"
   ]
  },
  {
   "cell_type": "markdown",
   "metadata": {},
   "source": [
    "## Step 1: \n",
    "## define water thickness as h: $h = -\\int dz$\n",
    "## define bottom pressure as p: $p = \\int \\rho*g*dz$"
   ]
  },
  {
   "cell_type": "code",
   "execution_count": 25,
   "metadata": {
    "collapsed": true
   },
   "outputs": [],
   "source": [
    "h = -dz.sum('st_ocean')\n",
    "\n",
    "dp = rho*g*dz\n",
    "p = dp.sum('st_ocean')"
   ]
  },
  {
   "cell_type": "markdown",
   "metadata": {},
   "source": [
    "## Step 2:\n",
    "## Calculate $\\sum p*\\Delta z$"
   ]
  },
  {
   "cell_type": "code",
   "execution_count": 26,
   "metadata": {
    "collapsed": true
   },
   "outputs": [],
   "source": [
    "a=0\n",
    "z=np.zeros(kmt.shape).astype(np.int64) \n",
    "z[:]=kmt[:].values-1\n",
    "dp1 = 0\n",
    "\n",
    "pb=np.zeros(p.shape)\n",
    "pb[:]=p[:].values\n",
    "\n",
    "for x in range(1392,1411):\n",
    "    dkmt1=kmt.isel(xt_ocean=x)-kmt.isel(xt_ocean=x-1)\n",
    "    if dkmt1<0:\n",
    "        dz1=dz.isel(xt_ocean=x-1).isel(st_ocean=z[x])-dz.isel(xt_ocean=x).isel(st_ocean=z[x])\n",
    "        rho1=rho.isel(xt_ocean=x-1).isel(st_ocean=z[x])\n",
    "        dp1= dp1-pb[x]*dz1 -rho1*g*dz1**2/2\n",
    "    elif dkmt1>0:\n",
    "        dz1=dz.isel(xt_ocean=x).isel(st_ocean=z[x])\n",
    "        rho1=rho.isel(xt_ocean=x).isel(st_ocean=z[x])\n",
    "        dp1= dp1+pb[x]*dz1 -rho1*g*dz1**2/2        "
   ]
  },
  {
   "cell_type": "code",
   "execution_count": 27,
   "metadata": {
    "collapsed": true
   },
   "outputs": [],
   "source": [
    "dp2 = 0\n",
    "\n",
    "for y in range(1391,1410):\n",
    "    dkmt2=kmt.isel(xt_ocean=y+1)-kmt.isel(xt_ocean=y) \n",
    "    if dkmt2==0:\n",
    "        dz2=dz.isel(xt_ocean=y+1).isel(st_ocean=z[y])-dz.isel(xt_ocean=y).isel(st_ocean=z[y])\n",
    "        rho2=rho.isel(xt_ocean=y+1).isel(st_ocean=z[y])\n",
    "        dp2= dp2+pb[y]*dz2 +rho2*g*dz2**2/2\n",
    "    elif dkmt2==1:\n",
    "        dz2=dz.isel(xt_ocean=y+1).isel(st_ocean=z[y])-dz.isel(xt_ocean=y).isel(st_ocean=z[y])\n",
    "        rho2=rho.isel(xt_ocean=y+1).isel(st_ocean=z[y])\n",
    "        dp2= dp2+pb[y]*dz2 +rho2*g*dz2**2/2\n",
    "    elif dkmt2==-1:\n",
    "        dz2=dz.isel(xt_ocean=y).isel(st_ocean=z[y])\n",
    "        rho2=rho.isel(xt_ocean=y).isel(st_ocean=z[y])\n",
    "        dp2= dp2-pb[y]*dz2 +rho2*g*dz2**2/2\n",
    "    elif dkmt2==2:\n",
    "        dz2=dz.isel(xt_ocean=y+1).isel(st_ocean=z[y])-dz.isel(xt_ocean=y).isel(st_ocean=z[y])\n",
    "        rho2=rho.isel(xt_ocean=y+1).isel(st_ocean=z[y])\n",
    "        dz3=dz.isel(xt_ocean=y+1).isel(st_ocean=z[y]+1)        \n",
    "        rho3=rho.isel(xt_ocean=y+1).isel(st_ocean=z[y]+1)\n",
    "        dp2= dp2+pb[y]*(dz2+dz3)+rho2*g*dz2*dz3 \n",
    "        +rho2*g*dz2**2/2+ rho3*g*dz3**2/2  \n",
    "    elif dkmt2==-2:\n",
    "        dz2=dz.isel(xt_ocean=y).isel(st_ocean=z[y])\n",
    "        rho2=rho.isel(xt_ocean=y).isel(st_ocean=z[y])\n",
    "        dz3=dz.isel(xt_ocean=y).isel(st_ocean=z[y]-1)        \n",
    "        rho3=rho.isel(xt_ocean=y).isel(st_ocean=z[y]-1)\n",
    "        dp2= dp2-pb[y]*(dz2+dz3)+rho2*g*dz2*dz3 \n",
    "        +rho2*g*dz2**2/2+ rho3*g*dz3**2/2          \n",
    "    elif dkmt2==3:\n",
    "        dz2=dz.isel(xt_ocean=y+1).isel(st_ocean=z[y])-dz.isel(xt_ocean=y).isel(st_ocean=z[y])\n",
    "        rho2=rho.isel(xt_ocean=y+1).isel(st_ocean=z[y])\n",
    "        dz3=dz.isel(xt_ocean=y+1).isel(st_ocean=z[y]+1)        \n",
    "        rho3=rho.isel(xt_ocean=y+1).isel(st_ocean=z[y]+1)\n",
    "        dz4=dz.isel(xt_ocean=y+1).isel(st_ocean=z[y]+2)        \n",
    "        rho4=rho.isel(xt_ocean=y+1).isel(st_ocean=z[y]+2)        \n",
    "        dp2= dp2+pb[y]*(dz2+dz3+dz4)+rho2*g*dz2*(dz3+dz4)\n",
    "        +rho3*g*dz3*dz4 +rho2*g*dz2**2/2+ rho3*g*dz3**2/2\n",
    "        + rho4*g*dz4**2/2\n",
    "    elif dkmt2==-3:\n",
    "        dz2=dz.isel(xt_ocean=y).isel(st_ocean=z[y])\n",
    "        rho2=rho.isel(xt_ocean=y).isel(st_ocean=z[y])\n",
    "        dz3=dz.isel(xt_ocean=y).isel(st_ocean=z[y]-1)        \n",
    "        rho3=rho.isel(xt_ocean=y).isel(st_ocean=z[y]-1)\n",
    "        dz4=dz.isel(xt_ocean=y).isel(st_ocean=z[y]-2)        \n",
    "        rho4=rho.isel(xt_ocean=y).isel(st_ocean=z[y]-2)        \n",
    "        dp2= dp2-pb[y]*(dz2+dz3+dz4)+rho2*g*dz2*(dz3+dz4)\n",
    "        +rho3*g*dz3*dz4 +rho2*g*dz2**2/2+ rho3*g*dz3**2/2\n",
    "        + rho4*g*dz4**2/2        \n",
    "    elif dkmt2==4:\n",
    "        dz2=dz.isel(xt_ocean=y+1).isel(st_ocean=z[y])-dz.isel(xt_ocean=y).isel(st_ocean=z[y])\n",
    "        rho2=rho.isel(xt_ocean=y+1).isel(st_ocean=z[y])\n",
    "        dz3=dz.isel(xt_ocean=y+1).isel(st_ocean=z[y]+1)        \n",
    "        rho3=rho.isel(xt_ocean=y+1).isel(st_ocean=z[y]+1)\n",
    "        dz4=dz.isel(xt_ocean=y+1).isel(st_ocean=z[y]+2)        \n",
    "        rho4=rho.isel(xt_ocean=y+1).isel(st_ocean=z[y]+2)      \n",
    "        dz5=dz.isel(xt_ocean=y+1).isel(st_ocean=z[y]+3)        \n",
    "        rho5=rho.isel(xt_ocean=y+1).isel(st_ocean=z[y]+3)        \n",
    "        dp2= dp2+pb[y]*(dz2+dz3+dz4+dz5)\n",
    "        +rho2*g*dz2*(dz3+dz4+dz5)+rho3*g*dz3*(dz4+dz5)\n",
    "        +rho4*g*dz4*(dz5)+rho2*g*dz2**2/2\n",
    "        +rho3*g*dz3**2/2+rho4*g*dz4**2/2\n",
    "        + rho5*g*dz5**2/2  \n",
    "    elif dkmt2==-4:\n",
    "        dz2=dz.isel(xt_ocean=y).isel(st_ocean=z[y])\n",
    "        rho2=rho.isel(xt_ocean=y).isel(st_ocean=z[y])\n",
    "        dz3=dz.isel(xt_ocean=y).isel(st_ocean=z[y]-1)        \n",
    "        rho3=rho.isel(xt_ocean=y).isel(st_ocean=z[y]-1)\n",
    "        dz4=dz.isel(xt_ocean=y).isel(st_ocean=z[y]-2)        \n",
    "        rho4=rho.isel(xt_ocean=y).isel(st_ocean=z[y]-2)      \n",
    "        dz5=dz.isel(xt_ocean=y).isel(st_ocean=z[y]-3)        \n",
    "        rho5=rho.isel(xt_ocean=y).isel(st_ocean=z[y]-3)        \n",
    "        dp2= dp2-pb[y]*(dz2+dz3+dz4+dz5)+rho2*g*dz2*(dz3+dz4+dz5)+rho3*g*dz3*(dz4+dz5)+rho4*g*dz4*(dz5)+rho2*g*dz2**2/2+rho3*g*dz3**2/2+rho4*g*dz4**2/2+ rho5*g*dz5**2/2                \n",
    "    elif dkmt2==5:\n",
    "        dz2=dz.isel(xt_ocean=y+1).isel(st_ocean=z[y])-dz.isel(xt_ocean=y).isel(st_ocean=z[y])\n",
    "        rho2=rho.isel(xt_ocean=y+1).isel(st_ocean=z[y])\n",
    "        dz3=dz.isel(xt_ocean=y+1).isel(st_ocean=z[y]+1)        \n",
    "        rho3=rho.isel(xt_ocean=y+1).isel(st_ocean=z[y]+1)\n",
    "        dz4=dz.isel(xt_ocean=y+1).isel(st_ocean=z[y]+2)        \n",
    "        rho4=rho.isel(xt_ocean=y+1).isel(st_ocean=z[y]+2)      \n",
    "        dz5=dz.isel(xt_ocean=y+1).isel(st_ocean=z[y]+3)        \n",
    "        rho5=rho.isel(xt_ocean=y+1).isel(st_ocean=z[y]+3) \n",
    "        dz6=dz.isel(xt_ocean=y+1).isel(st_ocean=z[y]+4)        \n",
    "        rho6=rho.isel(xt_ocean=y+1).isel(st_ocean=z[y]+4)        \n",
    "        dp2= dp2+pb[y]*(dz2+dz3+dz4+dz5+dz6)+rho2*g*dz2*(dz3+dz4+dz5+dz6)+rho3*g*dz3*(dz4+dz5+dz6)+rho4*g*dz4*(dz5+dz6)+rho5*g*dz5*(dz6)+rho2*g*dz2**2/2+rho3*g*dz3**2/2+rho4*g*dz4**2/2+ rho5*g*dz5**2/2+ rho6*g*dz6**2/2   \n",
    "    elif dkmt2==-5:\n",
    "        dz2=dz.isel(xt_ocean=y).isel(st_ocean=z[y])\n",
    "        rho2=rho.isel(xt_ocean=y).isel(st_ocean=z[y])\n",
    "        dz3=dz.isel(xt_ocean=y).isel(st_ocean=z[y]-1)        \n",
    "        rho3=rho.isel(xt_ocean=y).isel(st_ocean=z[y]-1)\n",
    "        dz4=dz.isel(xt_ocean=y).isel(st_ocean=z[y]-2)        \n",
    "        rho4=rho.isel(xt_ocean=y).isel(st_ocean=z[y]-2)      \n",
    "        dz5=dz.isel(xt_ocean=y).isel(st_ocean=z[y]-3)        \n",
    "        rho5=rho.isel(xt_ocean=y).isel(st_ocean=z[y]-3) \n",
    "        dz6=dz.isel(xt_ocean=y).isel(st_ocean=z[y]-4)        \n",
    "        rho6=rho.isel(xt_ocean=y).isel(st_ocean=z[y]-4)        \n",
    "        dp2= dp2-pb[y]*(dz2+dz3+dz4+dz5+dz6)+rho2*g*dz2*(dz3+dz4+dz5+dz6)+rho3*g*dz3*(dz4+dz5+dz6)+rho4*g*dz4*(dz5+dz6)+rho5*g*dz5*(dz6)+rho2*g*dz2**2/2+rho3*g*dz3**2/2+rho4*g*dz4**2/2+ rho5*g*dz5**2/2+ rho6*g*dz6**2/2                 \n",
    "    elif dkmt2==9:\n",
    "        dz2=dz.isel(xt_ocean=y+1).isel(st_ocean=z[y])-dz.isel(xt_ocean=y).isel(st_ocean=z[y])\n",
    "        rho2=rho.isel(xt_ocean=y+1).isel(st_ocean=z[y])\n",
    "        dz3=dz.isel(xt_ocean=y+1).isel(st_ocean=z[y]+1)        \n",
    "        rho3=rho.isel(xt_ocean=y+1).isel(st_ocean=z[y]+1)\n",
    "        dz4=dz.isel(xt_ocean=y+1).isel(st_ocean=z[y]+2)        \n",
    "        rho4=rho.isel(xt_ocean=y+1).isel(st_ocean=z[y]+2)      \n",
    "        dz5=dz.isel(xt_ocean=y+1).isel(st_ocean=z[y]+3)        \n",
    "        rho5=rho.isel(xt_ocean=y+1).isel(st_ocean=z[y]+3) \n",
    "        dz6=dz.isel(xt_ocean=y+1).isel(st_ocean=z[y]+4)        \n",
    "        rho6=rho.isel(xt_ocean=y+1).isel(st_ocean=z[y]+4) \n",
    "        dz7=dz.isel(xt_ocean=y+1).isel(st_ocean=z[y]+5)        \n",
    "        rho7=rho.isel(xt_ocean=y+1).isel(st_ocean=z[y]+5) \n",
    "        dz8=dz.isel(xt_ocean=y+1).isel(st_ocean=z[y]+6)        \n",
    "        rho8=rho.isel(xt_ocean=y+1).isel(st_ocean=z[y]+6) \n",
    "        dz9=dz.isel(xt_ocean=y+1).isel(st_ocean=z[y]+7)        \n",
    "        rho9=rho.isel(xt_ocean=y+1).isel(st_ocean=z[y]+7) \n",
    "        dz10=dz.isel(xt_ocean=y+1).isel(st_ocean=z[y]+8)        \n",
    "        rho10=rho.isel(xt_ocean=y+1).isel(st_ocean=z[y]+8)         \n",
    "        dp2= dp2+pb[y]*(dz2+dz3+dz4+dz5+dz6+dz7+dz8+dz9+dz10)+rho2*g*dz2*(dz3+dz4+dz5+dz6+dz7+dz8+dz9+dz10)+rho3*g*dz3*(dz4+dz5+dz6+dz7+dz8+dz9+dz10)+rho4*g*dz4*(dz5+dz6+dz7+dz8+dz9+dz10)+rho5*g*dz5*(dz6+dz7+dz8+dz9+dz10)+rho6*g*dz6*(dz7+dz8+dz9+dz10)+rho7*g*dz7*(dz8+dz9+dz10)+rho8*g*dz8*(dz9+dz10)+rho9*g*dz9*(dz10)+rho2*g*dz2**2/2+rho3*g*dz3**2/2+rho4*g*dz4**2/2+ rho5*g*dz5**2/2+ rho6*g*dz6**2/2+rho7*g*dz7**2/2+ rho8*g*dz8**2/2+ rho9*g*dz9**2/2+ rho10*g*dz10**2/2    \n",
    "    elif dkmt2==-7:\n",
    "        dz2=dz.isel(xt_ocean=y).isel(st_ocean=z[y])\n",
    "        rho2=rho.isel(xt_ocean=y).isel(st_ocean=z[y])\n",
    "        dz3=dz.isel(xt_ocean=y).isel(st_ocean=z[y]-1)        \n",
    "        rho3=rho.isel(xt_ocean=y).isel(st_ocean=z[y]-1)\n",
    "        dz4=dz.isel(xt_ocean=y).isel(st_ocean=z[y]-2)        \n",
    "        rho4=rho.isel(xt_ocean=y).isel(st_ocean=z[y]-2)      \n",
    "        dz5=dz.isel(xt_ocean=y).isel(st_ocean=z[y]-3)        \n",
    "        rho5=rho.isel(xt_ocean=y).isel(st_ocean=z[y]-3) \n",
    "        dz6=dz.isel(xt_ocean=y).isel(st_ocean=z[y]-4)        \n",
    "        rho6=rho.isel(xt_ocean=y).isel(st_ocean=z[y]-4) \n",
    "        dz7=dz.isel(xt_ocean=y).isel(st_ocean=z[y]-5)        \n",
    "        rho7=rho.isel(xt_ocean=y).isel(st_ocean=z[y]-5) \n",
    "        dz8=dz.isel(xt_ocean=y).isel(st_ocean=z[y]-6)        \n",
    "        rho8=rho.isel(xt_ocean=y).isel(st_ocean=z[y]-6)         \n",
    "        dp2= dp2-pb[y]*(dz2+dz3+dz4+dz5+dz6+dz7+dz8)+rho2*g*dz2*(dz3+dz4+dz5+dz6+dz7+dz8)+rho3*g*dz3*(dz4+dz5+dz6+dz7+dz8)+rho4*g*dz4*(dz5+dz6+dz7+dz8)+rho5*g*dz5*(dz6+dz7+dz8)+rho6*g*dz6*(dz7+dz8)+rho7*g*dz7*(dz8)+rho2*g*dz2**2/2+rho3*g*dz3**2/2+rho4*g*dz4**2/2+ rho5*g*dz5**2/2+ rho6*g*dz6**2/2+rho7*g*dz7**2/2+ rho8*g*dz8**2/2         \n"
   ]
  },
  {
   "cell_type": "markdown",
   "metadata": {},
   "source": [
    "## Step 3: output the result"
   ]
  },
  {
   "cell_type": "code",
   "execution_count": 28,
   "metadata": {
    "scrolled": true
   },
   "outputs": [
    {
     "name": "stdout",
     "output_type": "stream",
     "text": [
      "<xarray.DataArray ()>\n",
      "array(-649529833.645227)\n",
      "Coordinates:\n",
      "    yt_ocean  float64 -57.23\n",
      "    xt_ocean  float64 72.62\n"
     ]
    }
   ],
   "source": [
    "print dp2+dp1"
   ]
  },
  {
   "cell_type": "code",
   "execution_count": null,
   "metadata": {
    "collapsed": true
   },
   "outputs": [],
   "source": []
  }
 ],
 "metadata": {
  "kernelspec": {
   "display_name": "Python [default]",
   "language": "python",
   "name": "python2"
  },
  "language_info": {
   "codemirror_mode": {
    "name": "ipython",
    "version": 2
   },
   "file_extension": ".py",
   "mimetype": "text/x-python",
   "name": "python",
   "nbconvert_exporter": "python",
   "pygments_lexer": "ipython2",
   "version": "2.7.13"
  }
 },
 "nbformat": 4,
 "nbformat_minor": 2
}
