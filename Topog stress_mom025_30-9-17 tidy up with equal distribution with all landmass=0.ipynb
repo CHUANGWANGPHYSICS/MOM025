{
 "cells": [
  {
   "cell_type": "markdown",
   "metadata": {},
   "source": [
    "# Topog form stress using MOM025 DATA\n",
    "\n",
    "Recent update 30 Sept 2017"
   ]
  },
  {
   "cell_type": "code",
   "execution_count": 1,
   "metadata": {},
   "outputs": [],
   "source": [
    "%matplotlib inline\n",
    "\n",
    "import numpy as np\n",
    "import matplotlib.pyplot as plt\n",
    "from netCDF4 import Dataset\n",
    "import os\n",
    "import pickle\n",
    "from numpy import math\n",
    "\n",
    "import pandas as pd\n",
    "import xarray as xr\n",
    "from glob import glob\n",
    "from mpl_toolkits.basemap import Basemap, shiftgrid\n"
   ]
  },
  {
   "cell_type": "markdown",
   "metadata": {},
   "source": [
    "# Load Data"
   ]
  },
  {
   "cell_type": "code",
   "execution_count": 2,
   "metadata": {},
   "outputs": [
    {
     "name": "stderr",
     "output_type": "stream",
     "text": [
      "/g/data3/hh5/public/apps/miniconda3/envs/analysis27/lib/python2.7/site-packages/xarray/conventions.py:393: RuntimeWarning: Unable to decode time axis into full numpy.datetime64 objects, continuing using dummy netCDF4.datetime objects instead, reason: dates out of range\n",
      "  result = decode_cf_datetime(example_value, units, calendar)\n",
      "/g/data3/hh5/public/apps/miniconda3/envs/analysis27/lib/python2.7/site-packages/xarray/conventions.py:412: RuntimeWarning: Unable to decode time axis into full numpy.datetime64 objects, continuing using dummy netCDF4.datetime objects instead, reason: dates out of range\n",
      "  calendar=self.calendar)\n"
     ]
    }
   ],
   "source": [
    "g = 9.8\n",
    "\n",
    "OceanFile1 = '/g/data3/hh5/tmp/cosima/access-om2-025/025deg_jra55_ryf_spinup7/output100/ocean/ocean_grid.nc'\n",
    "dsx1 = xr.open_dataset(OceanFile1, engine='netcdf4')\n",
    "\n",
    "OceanFile2 =  '/g/data3/hh5/tmp/cosima/access-om2-025/025deg_jra55_ryf_spinup7/output100/ocean/ocean_month.nc'\n",
    "dsx2 = xr.open_dataset(OceanFile2, engine='netcdf4')\n",
    "\n",
    "OceanFile3 =  '/g/data3/hh5/tmp/cosima/access-om2-025/025deg_jra55_ryf_spinup7/output100/ocean/ocean.nc'\n",
    "dsx3 = xr.open_dataset(OceanFile3, engine='netcdf4')\n",
    "\n",
    "\n",
    "psum=np.zeros(1080)     # store sum pbot*dz in each latitude\n",
    "pf=np.zeros([1080,1440])# store pbot*dz in each z-cell\n",
    "\n",
    "for yy in range(100,400):\n",
    "    kmt = dsx1.kmt.isel(yt_ocean=yy)    # \"number of depth levels on t-grid\"\n",
    "    depth = dsx1.ht.isel(yt_ocean=yy)   # ht, depth\n",
    "    pbot = dsx2.pbot_t.mean('time').isel(yt_ocean=yy)   # p_bot\n",
    "    dz = dsx3.dzt.mean('time').isel(yt_ocean=yy)        # t-cell thickness\n",
    "    rho = dsx3.rho.mean('time').isel(yt_ocean=yy)       # \\rho in-situ    \n",
    "    z=np.zeros(kmt.shape).astype(np.int64)              # define z initial\n",
    "    z[:]=kmt[:].values-1                # layer number z[x]             \n",
    "    dp = 0\n",
    "    for x in range(0,1440):\n",
    "        if (z[x]>-1)&(z[x-1]>-1):        \n",
    "            if z[x]-z[x-1]==0:\n",
    "                dz1=depth[x-1]-depth[x]\n",
    "                if dz1<0:\n",
    "                    rhom=rho[z[x],x]\n",
    "                    pf[yy,x]=0+(10000*pbot[x]*(-dz1)-g*rhom*(dz1)**2/2)\n",
    "                elif (dz1)>0:\n",
    "                    rhom=rho[z[x-1],x-1]\n",
    "                    pf[yy,x]=0-(10000*pbot[x-1]*(dz1)-g*rhom*(dz1)**2/2)\n",
    "            else:\n",
    "                if depth[x]-depth[x-1]>0:\n",
    "                    dp=0\n",
    "                    dz1=depth[x]-depth[x-1]   # total depth difference\n",
    "                    pa=10000*pbot[x]          # choose pbot pressure\n",
    "                    dzz = (depth[x]-depth[x-1]-np.sum(dz[z[x-1]:z[x]+1,x]) + dz[z[x-1],x-1])/(z[x]-z[x-1]+1)  # correction          \n",
    "                    for i in range(0,z[x]-z[x-1]):  #calculate from bottom partial cell in each layer             \n",
    "                        zm=dz[z[x]-i,x]+dzz         #correct length of dz of each partial cell\n",
    "                        rhom=rho[z[x]-i,x]          #density\n",
    "                        pm = pa-zm*g*rhom/2         #pressure at middle of each partial cell\n",
    "                        dp=dp+pm*zm                 #press*dz in each partial cell\n",
    "                        pa=pa-zm*g*rhom             #update press reference to upper partial cell\n",
    "                    zm=dz[z[x-1],x]-dz[z[x-1],x-1]+dzz # The top cell\n",
    "                    rhom=rho[z[x-1],x]                \n",
    "                    pm = pa-zm*g*rhom/2\n",
    "                    pf[yy,x]=dp+pm*zm               #record sum(p*dz) in one layer with + sign (east)\n",
    "                elif depth[x]-depth[x-1]<0:\n",
    "                    dp=0\n",
    "                    dz1=depth[x-1]-depth[x]\n",
    "                    pa=10000*pbot[x-1]\n",
    "                    dzz = (depth[x-1]-depth[x]-np.sum(dz[z[x]:z[x-1]+1,x-1])+dz[z[x],x])/(z[x-1]-z[x]+1)            \n",
    "                    for i in range(0,z[x-1]-z[x]):\n",
    "                        zm=dz[z[x-1]-i,x-1]+dzz\n",
    "                        rhom=rho[z[x-1]-i,x-1]\n",
    "                        pm = pa-zm*g*rhom/2\n",
    "                        dp=dp+pm*zm\n",
    "                        pa=pa-zm*g*rhom           \n",
    "                    zm=dz[z[x],x-1]-dz[z[x],x]+dzz\n",
    "                    rhom=rho[z[x],x-1]                \n",
    "                    pm = pa-zm*g*rhom/2\n",
    "                    pf[yy,x]=0-(dp+pm*zm)           #record sum(p*dz) in one layer with - sign (west)                  \n",
    "    psum[yy]=np.sum(pf[yy,:])                   #record sum(p*dz) in one latitude\n"
   ]
  },
  {
   "cell_type": "code",
   "execution_count": 4,
   "metadata": {},
   "outputs": [
    {
     "data": {
      "text/plain": [
       "(-5000000.0, 5000000.0)"
      ]
     },
     "execution_count": 4,
     "metadata": {},
     "output_type": "execute_result"
    },
    {
     "data": {
      "image/png": "[encoded data removed]",
      "text/plain": [
       "<matplotlib.figure.Figure at 0x7f12915f46d0>"
      ]
     },
     "metadata": {},
     "output_type": "display_data"
    }
   ],
   "source": [
    "lat = dsx1.yt_ocean[100:400]\n",
    "plt.plot(lat,psum[100:400])\n",
    "plt.ylim([-5e6,5e6])"
   ]
  },
  {
   "cell_type": "markdown",
   "metadata": {},
   "source": [
    "## Summary:\n",
    "\n",
    "### This method make all the half water and half continent landmass, the pressure is set to be 0.\n",
    "### This method does not work."
   ]
  }
 ],
 "metadata": {
  "kernelspec": {
   "display_name": "Python [default]",
   "language": "python",
   "name": "python2"
  },
  "language_info": {
   "codemirror_mode": {
    "name": "ipython",
    "version": 2
   },
   "file_extension": ".py",
   "mimetype": "text/x-python",
   "name": "python",
   "nbconvert_exporter": "python",
   "pygments_lexer": "ipython2",
   "version": "2.7.13"
  }
 },
 "nbformat": 4,
 "nbformat_minor": 2
}
