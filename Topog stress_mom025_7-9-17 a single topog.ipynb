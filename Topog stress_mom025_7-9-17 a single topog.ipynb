{
 "cells": [
  {
   "cell_type": "markdown",
   "metadata": {},
   "source": [
    "# Topog Stress using MOM025 DATA\n",
    "\n",
    "Recent update 7 Sept 2017"
   ]
  },
  {
   "cell_type": "code",
   "execution_count": 1,
   "metadata": {
    "collapsed": true
   },
   "outputs": [],
   "source": [
    "%matplotlib inline\n",
    "\n",
    "import numpy as np\n",
    "import matplotlib.pyplot as plt\n",
    "from netCDF4 import Dataset\n",
    "import os\n",
    "import pickle\n",
    "from numpy import math\n",
    "\n",
    "import pandas as pd\n",
    "import xarray as xr\n",
    "from glob import glob\n",
    "from mpl_toolkits.basemap import Basemap, shiftgrid\n"
   ]
  },
  {
   "cell_type": "markdown",
   "metadata": {},
   "source": [
    "# Load Data"
   ]
  },
  {
   "cell_type": "code",
   "execution_count": 106,
   "metadata": {},
   "outputs": [
    {
     "name": "stdout",
     "output_type": "stream",
     "text": [
      "CPU times: user 0 ns, sys: 0 ns, total: 0 ns\n",
      "Wall time: 11 µs\n"
     ]
    }
   ],
   "source": [
    "## Load data\n",
    "\n",
    "%time\n",
    "OceanFile1 = '/g/data3/hh5/tmp/cosima/access-om2-025/025deg_jra55_ryf_spinup7/output000/ocean/ocean_grid.nc'\n",
    "dsx1 = xr.open_dataset(OceanFile1, engine='netcdf4')\n",
    "kmt = dsx1.kmt.isel(yt_ocean=217).astype(np.int64)  # \"number of depth levels on t-grid\"\n",
    "depth = -dsx1.ht.isel(yt_ocean=217)   ## H\n",
    "dxu = dsx1.dxu ## dxu\n",
    "\n",
    "OceanFile2 =  '/g/data3/hh5/tmp/cosima/access-om2-025/025deg_jra55_ryf_spinup7/output000/ocean/ocean_month.nc'\n",
    "dsx2 = xr.open_dataset(OceanFile2, engine='netcdf4')\n",
    "taux = dxu*dsx2.tau_x.mean('time')  ## tau_x\n",
    "pbot = dsx2.pbot_t.mean('time').isel(yt_ocean=217)     ## p_bot\n",
    "eta0 = dsx2.eta_t.mean('time') ## \\eta\n",
    "eta = dsx2.sea_level.mean('time') ## sea_level\n",
    "\n",
    "OceanFile3 =  '/g/data3/hh5/tmp/cosima/access-om2-025/025deg_jra55_ryf_spinup7/output000/ocean/ocean.nc'\n",
    "dsx3 = xr.open_dataset(OceanFile3, engine='netcdf4')\n",
    "rho = dsx3.rho.mean('time').isel(yt_ocean=217)        ## \\rho in-situ\n",
    "dz = dsx3.dzt.mean('time').isel(yt_ocean=217)      ## t-cell thickness\n",
    "g = 9.8196\n",
    "rho0=1035"
   ]
  },
  {
   "cell_type": "markdown",
   "metadata": {},
   "source": [
    "## Step 1: \n",
    "## define water thickness as h: $h = -\\int dz$\n",
    "## define bottom pressure as p: $p = \\int \\rho*g*dz$"
   ]
  },
  {
   "cell_type": "code",
   "execution_count": 3,
   "metadata": {
    "collapsed": true
   },
   "outputs": [],
   "source": [
    "h = -dz.sum('st_ocean')\n",
    "\n",
    "dp = rho*g*dz\n",
    "p = dp.sum('st_ocean')"
   ]
  },
  {
   "cell_type": "markdown",
   "metadata": {},
   "source": [
    "## Step 2:\n",
    "## Draw the single topog, kmt as layer number, -h as height of topog structure"
   ]
  },
  {
   "cell_type": "code",
   "execution_count": 4,
   "metadata": {
    "scrolled": false
   },
   "outputs": [
    {
     "data": {
      "text/plain": [
       "<matplotlib.text.Text at 0x7f98de407310>"
      ]
     },
     "execution_count": 4,
     "metadata": {},
     "output_type": "execute_result"
    },
    {
     "data": {
      "image/png": "[encoded data removed]",
      "text/plain": [
       "<matplotlib.figure.Figure at 0x7f98de49bed0>"
      ]
     },
     "metadata": {},
     "output_type": "display_data"
    }
   ],
   "source": [
    "plt.figure(figsize=(12,4))\n",
    "\n",
    "plt.subplot(121)\n",
    "kmt.isel(xt_ocean=np.arange(1390,1412)).plot(marker='.')\n",
    "plt.grid()\n",
    "plt.title('kmt')\n",
    "\n",
    "plt.subplot(122)\n",
    "h.isel(xt_ocean=np.arange(1390,1412)).plot(marker='.')\n",
    "plt.grid()\n",
    "plt.title('depth')"
   ]
  },
  {
   "cell_type": "markdown",
   "metadata": {},
   "source": [
    "## Step 3: Calculate  p*dz according to the methods discussed. From cell 1 to cell 35 on the plot"
   ]
  },
  {
   "cell_type": "code",
   "execution_count": 5,
   "metadata": {
    "collapsed": true
   },
   "outputs": [],
   "source": [
    "x=1391\n",
    "z=37\n",
    "\n",
    "dz1= dz.isel(xt_ocean=x).isel(st_ocean=z)\n",
    "rho1 = rho.isel(xt_ocean=x).isel(st_ocean=z)\n",
    "\n",
    "pb1 = p.isel(xt_ocean=x)\n",
    "\n",
    "dp1 = -(pb1*dz1-g*rho1*dz1**2/2)"
   ]
  },
  {
   "cell_type": "code",
   "execution_count": 6,
   "metadata": {
    "collapsed": true
   },
   "outputs": [],
   "source": [
    "x=1392\n",
    "z=36\n",
    "\n",
    "dz2 = dz.isel(xt_ocean=x-1).isel(st_ocean=z)-dz.isel(xt_ocean=x).isel(st_ocean=z)  \n",
    "dz3 = dz.isel(xt_ocean=x).isel(st_ocean=z) \n",
    "\n",
    "rho2 = rho.isel(xt_ocean=x-1).isel(st_ocean=z)\n",
    "rho3 = rho.isel(xt_ocean=x).isel(st_ocean=z)\n",
    "\n",
    "pb2 = p.isel(xt_ocean=x)\n",
    "\n",
    "dp2 = -(pb2*(dz2+dz3)+g*(rho2*dz2**2/2-rho3*dz3**2/2))"
   ]
  },
  {
   "cell_type": "code",
   "execution_count": 7,
   "metadata": {
    "collapsed": true
   },
   "outputs": [],
   "source": [
    "x=1392\n",
    "z=35\n",
    "\n",
    "dz4 = dz.isel(xt_ocean=x).isel(st_ocean=z)\n",
    "\n",
    "rho4 = rho.isel(xt_ocean=x).isel(st_ocean=z)\n",
    "\n",
    "pb4 = p.isel(xt_ocean=x)-g*rho3*dz3\n",
    "\n",
    "dp4 = -(pb4*(dz4)-g*rho4*(dz4**2/2))"
   ]
  },
  {
   "cell_type": "code",
   "execution_count": 8,
   "metadata": {
    "collapsed": true
   },
   "outputs": [],
   "source": [
    "x=1393\n",
    "z=34\n",
    "\n",
    "dz5 = dz.isel(xt_ocean=x-1).isel(st_ocean=z)-dz.isel(xt_ocean=x).isel(st_ocean=z)  \n",
    "dz6 = dz.isel(xt_ocean=x).isel(st_ocean=z) \n",
    "\n",
    "rho5 = rho.isel(xt_ocean=x-1).isel(st_ocean=z)\n",
    "rho6 = rho.isel(xt_ocean=x).isel(st_ocean=z)\n",
    "\n",
    "pb6 = p.isel(xt_ocean=x)\n",
    "\n",
    "dp6 = -(pb6*(dz5+dz6)+g*(rho5*dz5**2/2-rho6*dz6**2/2))"
   ]
  },
  {
   "cell_type": "code",
   "execution_count": 65,
   "metadata": {
    "collapsed": true
   },
   "outputs": [],
   "source": [
    "x=1394\n",
    "z=33\n",
    "\n",
    "dz7 = dz.isel(xt_ocean=x-1).isel(st_ocean=z)-dz.isel(xt_ocean=x).isel(st_ocean=z)  \n",
    "dz8 = dz.isel(xt_ocean=x+1).isel(st_ocean=z)-dz.isel(xt_ocean=x).isel(st_ocean=z)  \n",
    "\n",
    "rho7 = rho.isel(xt_ocean=x-1).isel(st_ocean=z)\n",
    "rho8 = rho.isel(xt_ocean=x+1).isel(st_ocean=z)\n",
    "\n",
    "pb8 = p.isel(xt_ocean=x)\n",
    "\n",
    "dp8 = -(pb8*(dz7)+g*(rho7*dz7**2/2))+(pb8*(dz8)+g*(rho8*dz8**2/2))"
   ]
  },
  {
   "cell_type": "code",
   "execution_count": 66,
   "metadata": {},
   "outputs": [
    {
     "data": {
      "text/plain": [
       "<xarray.DataArray ()>\n",
       "array(-120933.0358197689)\n",
       "Coordinates:\n",
       "    yt_ocean  float64 -57.23\n",
       "    st_ocean  float64 2.071e+03"
      ]
     },
     "execution_count": 66,
     "metadata": {},
     "output_type": "execute_result"
    }
   ],
   "source": [
    "dp8"
   ]
  },
  {
   "cell_type": "code",
   "execution_count": 10,
   "metadata": {
    "collapsed": true
   },
   "outputs": [],
   "source": [
    "x=1395\n",
    "z=34\n",
    "\n",
    "dz10 = dz.isel(xt_ocean=x+1).isel(st_ocean=z)-dz.isel(xt_ocean=x).isel(st_ocean=z)  \n",
    "dz9 = dz.isel(xt_ocean=x).isel(st_ocean=z) \n",
    "\n",
    "rho9 = rho.isel(xt_ocean=x).isel(st_ocean=z)\n",
    "rho10 = rho.isel(xt_ocean=x+1).isel(st_ocean=z)\n",
    "\n",
    "pb9 = p.isel(xt_ocean=x)\n",
    "\n",
    "dp9 = (pb9*(dz10+dz9)+g*(rho10*dz10**2/2-rho9*dz9**2/2))"
   ]
  },
  {
   "cell_type": "code",
   "execution_count": 11,
   "metadata": {
    "collapsed": true
   },
   "outputs": [],
   "source": [
    "x=1396\n",
    "z=34\n",
    "\n",
    "dz11 = dz.isel(xt_ocean=x+1).isel(st_ocean=z)-dz.isel(xt_ocean=x).isel(st_ocean=z)  \n",
    "\n",
    "rho11 = rho.isel(xt_ocean=x).isel(st_ocean=z)\n",
    "\n",
    "pb11 =p.isel(xt_ocean=x)\n",
    "\n",
    "dp11 = (pb11*(dz11)+g*rho11*(dz11**2/2))"
   ]
  },
  {
   "cell_type": "code",
   "execution_count": 12,
   "metadata": {
    "collapsed": true
   },
   "outputs": [],
   "source": [
    "x=1397\n",
    "z=34\n",
    "\n",
    "dz12 = dz.isel(xt_ocean=x+1).isel(st_ocean=z)-dz.isel(xt_ocean=x).isel(st_ocean=z)  \n",
    "\n",
    "rho12 = rho.isel(xt_ocean=x).isel(st_ocean=z)\n",
    "\n",
    "pb12 = p.isel(xt_ocean=x)\n",
    "\n",
    "dp12 = (pb12*(dz12)+g*rho12*(dz12**2/2))"
   ]
  },
  {
   "cell_type": "code",
   "execution_count": 13,
   "metadata": {
    "collapsed": true
   },
   "outputs": [],
   "source": [
    "x=1398\n",
    "z=34\n",
    "\n",
    "dz13 = dz.isel(xt_ocean=x).isel(st_ocean=z)  \n",
    "\n",
    "rho13 = rho.isel(xt_ocean=x).isel(st_ocean=z)\n",
    "\n",
    "pb13 = p.isel(xt_ocean=x)\n",
    "\n",
    "dp13 = -(pb13*(dz13)-g*rho13*(dz13**2/2))"
   ]
  },
  {
   "cell_type": "code",
   "execution_count": 14,
   "metadata": {
    "collapsed": true
   },
   "outputs": [],
   "source": [
    "x=1399\n",
    "z=33\n",
    "\n",
    "dz14 = dz.isel(xt_ocean=x-1).isel(st_ocean=z)-dz.isel(xt_ocean=x).isel(st_ocean=z)  \n",
    "dz15 = dz.isel(xt_ocean=x).isel(st_ocean=z) \n",
    "\n",
    "rho14 = rho.isel(xt_ocean=x-1).isel(st_ocean=z)\n",
    "rho15 = rho.isel(xt_ocean=x).isel(st_ocean=z)\n",
    "\n",
    "pb14 = p.isel(xt_ocean=x)\n",
    "\n",
    "dp14 = -(pb14*(dz14+dz15)+g*(rho14*dz14**2/2-rho15*dz15**2/2))"
   ]
  },
  {
   "cell_type": "code",
   "execution_count": 15,
   "metadata": {
    "collapsed": true
   },
   "outputs": [],
   "source": [
    "x=1400\n",
    "z=32\n",
    "\n",
    "dz16 = dz.isel(xt_ocean=x-1).isel(st_ocean=z)-dz.isel(xt_ocean=x).isel(st_ocean=z)  \n",
    "dz17 = dz.isel(xt_ocean=x).isel(st_ocean=z) \n",
    "\n",
    "rho16 = rho.isel(xt_ocean=x-1).isel(st_ocean=z)\n",
    "rho17 = rho.isel(xt_ocean=x).isel(st_ocean=z)\n",
    "\n",
    "pb16 = p.isel(xt_ocean=x)\n",
    "\n",
    "dp16 = -(pb16*(dz16+dz17)+g*(rho16*dz16**2/2-rho17*dz17**2/2))"
   ]
  },
  {
   "cell_type": "code",
   "execution_count": 16,
   "metadata": {},
   "outputs": [],
   "source": [
    "x=1401\n",
    "z=31\n",
    "\n",
    "dz18 = dz.isel(xt_ocean=x-1).isel(st_ocean=z)-dz.isel(xt_ocean=x).isel(st_ocean=z)  \n",
    "dz19 = dz.isel(xt_ocean=x).isel(st_ocean=z) \n",
    "\n",
    "rho18 = rho.isel(xt_ocean=x-1).isel(st_ocean=z)\n",
    "rho19 = rho.isel(xt_ocean=x).isel(st_ocean=z)\n",
    "\n",
    "pb18 = p.isel(xt_ocean=x)\n",
    "\n",
    "dp18 = -(pb18*(dz18+dz19)+g*(rho18*dz18**2/2-rho19*dz19**2/2))"
   ]
  },
  {
   "cell_type": "code",
   "execution_count": 17,
   "metadata": {
    "collapsed": true
   },
   "outputs": [],
   "source": [
    "x=1402\n",
    "z=30\n",
    "\n",
    "dz20 = dz.isel(xt_ocean=x-1).isel(st_ocean=z)-dz.isel(xt_ocean=x).isel(st_ocean=z)  \n",
    "dz21 = dz.isel(xt_ocean=x).isel(st_ocean=z)- dz.isel(xt_ocean=x+1).isel(st_ocean=z)\n",
    "\n",
    "rho20 = rho.isel(xt_ocean=x-1).isel(st_ocean=z)\n",
    "rho21 = rho.isel(xt_ocean=x).isel(st_ocean=z)\n",
    "\n",
    "pb20 = p.isel(xt_ocean=x)\n",
    "\n",
    "dp20 = -(pb20*(dz20+dz21)+g*rho20*dz20**2/2-g*rho21*dz21**2/2)"
   ]
  },
  {
   "cell_type": "code",
   "execution_count": 18,
   "metadata": {
    "collapsed": true
   },
   "outputs": [],
   "source": [
    "x=1404\n",
    "z=30\n",
    "\n",
    "dz23 = dz.isel(xt_ocean=x+1).isel(st_ocean=z)-dz.isel(xt_ocean=x).isel(st_ocean=z)  \n",
    "dz22 = dz.isel(xt_ocean=x).isel(st_ocean=z) - dz.isel(xt_ocean=x-1).isel(st_ocean=z) \n",
    "\n",
    "rho22 = rho.isel(xt_ocean=x).isel(st_ocean=z)\n",
    "rho23 = rho.isel(xt_ocean=x+1).isel(st_ocean=z)\n",
    "\n",
    "pb22 = p.isel(xt_ocean=x)\n",
    "\n",
    "dp22 = (pb22*(dz22+dz23)+g*rho23*dz23**2/2-g*rho22*dz22**2/2)"
   ]
  },
  {
   "cell_type": "code",
   "execution_count": 19,
   "metadata": {},
   "outputs": [
    {
     "data": {
      "text/plain": [
       "<xarray.DataArray ()>\n",
       "array(153070.0070490837)\n",
       "Coordinates:\n",
       "    yt_ocean  float64 -57.23\n",
       "    st_ocean  float64 1.498e+03"
      ]
     },
     "execution_count": 19,
     "metadata": {},
     "output_type": "execute_result"
    }
   ],
   "source": [
    "dp20+dp22"
   ]
  },
  {
   "cell_type": "code",
   "execution_count": 20,
   "metadata": {
    "collapsed": true
   },
   "outputs": [],
   "source": [
    "x=1405\n",
    "z=31\n",
    "\n",
    "dz25 = dz.isel(xt_ocean=x+1).isel(st_ocean=z)-dz.isel(xt_ocean=x).isel(st_ocean=z)  \n",
    "dz24 = dz.isel(xt_ocean=x).isel(st_ocean=z) \n",
    "\n",
    "rho24 = rho.isel(xt_ocean=x).isel(st_ocean=z)\n",
    "rho25 = rho.isel(xt_ocean=x+1).isel(st_ocean=z)\n",
    "\n",
    "pb24 = p.isel(xt_ocean=x)\n",
    "\n",
    "dp24 = (pb24*(dz24+dz25)+g*(rho25*dz25**2/2-rho24*dz24**2/2))"
   ]
  },
  {
   "cell_type": "code",
   "execution_count": 21,
   "metadata": {
    "collapsed": true
   },
   "outputs": [],
   "source": [
    "x=1406\n",
    "z=32\n",
    "\n",
    "dz27 = dz.isel(xt_ocean=x+1).isel(st_ocean=z)-dz.isel(xt_ocean=x).isel(st_ocean=z)  \n",
    "dz26 = dz.isel(xt_ocean=x).isel(st_ocean=z) \n",
    "\n",
    "rho26 = rho.isel(xt_ocean=x).isel(st_ocean=z)\n",
    "rho27 = rho.isel(xt_ocean=x+1).isel(st_ocean=z)\n",
    "\n",
    "pb26 = p.isel(xt_ocean=x)\n",
    "\n",
    "dp26 = (pb26*(dz26+dz27)+g*(rho27*dz27**2/2-rho26*dz26**2/2))"
   ]
  },
  {
   "cell_type": "code",
   "execution_count": 22,
   "metadata": {
    "collapsed": true
   },
   "outputs": [],
   "source": [
    "x=1407\n",
    "z=32\n",
    "\n",
    "dz28 = dz.isel(xt_ocean=x+1).isel(st_ocean=z)-dz.isel(xt_ocean=x).isel(st_ocean=z)  \n",
    "\n",
    "rho28 = rho.isel(xt_ocean=x).isel(st_ocean=z)\n",
    "\n",
    "pb28 = p.isel(xt_ocean=x)\n",
    "\n",
    "dp28 = (pb28*(dz28)+g*rho28*(dz28**2/2))"
   ]
  },
  {
   "cell_type": "code",
   "execution_count": 23,
   "metadata": {
    "collapsed": true
   },
   "outputs": [],
   "source": [
    "x=1408\n",
    "z=33\n",
    "\n",
    "dz29 = dz.isel(xt_ocean=x).isel(st_ocean=z)  \n",
    "\n",
    "rho29 = rho.isel(xt_ocean=x).isel(st_ocean=z)\n",
    "\n",
    "pb29 = p.isel(xt_ocean=x-1)+rho28*g*dz28\n",
    "\n",
    "dp29 = (pb29*(dz29)+g*rho29*(dz29**2/2))"
   ]
  },
  {
   "cell_type": "code",
   "execution_count": 24,
   "metadata": {
    "collapsed": true
   },
   "outputs": [],
   "source": [
    "x=1408\n",
    "z=34\n",
    "\n",
    "dz31 = dz.isel(xt_ocean=x+1).isel(st_ocean=z)-dz.isel(xt_ocean=x).isel(st_ocean=z)  \n",
    "dz30 = dz.isel(xt_ocean=x).isel(st_ocean=z) \n",
    "\n",
    "rho30 = rho.isel(xt_ocean=x).isel(st_ocean=z)\n",
    "rho31 = rho.isel(xt_ocean=x+1).isel(st_ocean=z)\n",
    "\n",
    "pb30 = p.isel(xt_ocean=x)\n",
    "\n",
    "dp30 = (pb30*(dz30+dz31)+g*(rho31*dz31**2/2-rho30*dz30**2/2))"
   ]
  },
  {
   "cell_type": "code",
   "execution_count": 43,
   "metadata": {},
   "outputs": [],
   "source": [
    "x=1409\n",
    "z=35\n",
    "\n",
    "dz33 = dz.isel(xt_ocean=x+1).isel(st_ocean=z)-dz.isel(xt_ocean=x).isel(st_ocean=z)  \n",
    "dz32 = dz.isel(xt_ocean=x).isel(st_ocean=z) \n",
    "\n",
    "rho32 = rho.isel(xt_ocean=x).isel(st_ocean=z)\n",
    "rho33 = rho.isel(xt_ocean=x+1).isel(st_ocean=z)\n",
    "\n",
    "pb32 = p.isel(xt_ocean=x)\n",
    "\n",
    "dp32 = (pb32*(dz32+dz33)+g*(rho33*dz33**2/2-rho32*dz32**2/2))"
   ]
  },
  {
   "cell_type": "code",
   "execution_count": 27,
   "metadata": {
    "collapsed": true
   },
   "outputs": [],
   "source": [
    "x=1410\n",
    "z=36\n",
    "\n",
    "dz34 = dz.isel(xt_ocean=x).isel(st_ocean=z)  \n",
    "\n",
    "rho34 = rho.isel(xt_ocean=x).isel(st_ocean=z)\n",
    "\n",
    "pb34 = p.isel(xt_ocean=x-1)+rho33*g*dz33\n",
    "\n",
    "dp34 = (pb34*(dz34)+g*rho34*(dz34**2/2))"
   ]
  },
  {
   "cell_type": "code",
   "execution_count": 28,
   "metadata": {
    "collapsed": true
   },
   "outputs": [],
   "source": [
    "x=1410\n",
    "z=37\n",
    "\n",
    "dz35 = dz.isel(xt_ocean=x).isel(st_ocean=z)  \n",
    "\n",
    "rho35 = rho.isel(xt_ocean=x).isel(st_ocean=z)\n",
    "\n",
    "pb35 = p.isel(xt_ocean=x)\n",
    "\n",
    "dp35 = (pb35*(dz35)-g*rho35*(dz35**2/2))"
   ]
  },
  {
   "cell_type": "code",
   "execution_count": 73,
   "metadata": {},
   "outputs": [
    {
     "data": {
      "text/plain": [
       "<xarray.DataArray ()>\n",
       "array(153070.0070490837)\n",
       "Coordinates:\n",
       "    yt_ocean  float64 -57.23\n",
       "    st_ocean  float64 1.498e+03"
      ]
     },
     "execution_count": 73,
     "metadata": {},
     "output_type": "execute_result"
    }
   ],
   "source": [
    "dp20+dp22"
   ]
  },
  {
   "cell_type": "markdown",
   "metadata": {},
   "source": [
    "## Step 4: Sum them up"
   ]
  },
  {
   "cell_type": "code",
   "execution_count": 183,
   "metadata": {},
   "outputs": [
    {
     "data": {
      "text/plain": [
       "<xarray.DataArray ()>\n",
       "array(-447494.8584792614)\n",
       "Coordinates:\n",
       "    yt_ocean  float64 -57.23\n",
       "    xt_ocean  float64 72.62"
      ]
     },
     "execution_count": 183,
     "metadata": {},
     "output_type": "execute_result"
    }
   ],
   "source": [
    "dp1 +dp2 +dp4 +dp6+dp8 +dp9 +dp11+dp12+dp13 +dp14 +dp16 +dp18 +dp20 +dp22 +dp24 +dp26 +dp28 +dp29 +dp30 +dp32 +dp34 +dp35 "
   ]
  },
  {
   "cell_type": "markdown",
   "metadata": {},
   "source": [
    "## Step 5: Compare with $ -\\int p dh$, where $dh(n) = 0.5*(h(n+1)-h(n-1))$"
   ]
  },
  {
   "cell_type": "code",
   "execution_count": 78,
   "metadata": {
    "collapsed": true
   },
   "outputs": [],
   "source": [
    "dh = np.zeros(depth.isel(xt_ocean=np.arange(1391,1411)).shape)"
   ]
  },
  {
   "cell_type": "code",
   "execution_count": 79,
   "metadata": {
    "collapsed": true
   },
   "outputs": [],
   "source": [
    "dh[:] = 0.5*(h[1392:1412].values - h[1390:1410].values)"
   ]
  },
  {
   "cell_type": "code",
   "execution_count": 80,
   "metadata": {},
   "outputs": [
    {
     "name": "stdout",
     "output_type": "stream",
     "text": [
      "[ 101.13386488  248.53188181  245.07650805   57.26780081  -40.40926743\n",
      "   -3.58960962   -3.58884668   58.52634192  161.94783545  230.8459425\n",
      "  197.51336336   97.46750498  -38.56717157 -122.11343241 -138.60790157\n",
      " -118.86126184 -178.68656874 -314.15826178 -305.79381466 -133.89590836]\n"
     ]
    }
   ],
   "source": [
    "print dh"
   ]
  },
  {
   "cell_type": "code",
   "execution_count": 81,
   "metadata": {},
   "outputs": [
    {
     "name": "stdout",
     "output_type": "stream",
     "text": [
      "<xarray.DataArray ()>\n",
      "array(-786085.3270816803)\n",
      "Coordinates:\n",
      "    yt_ocean  float64 -57.23\n"
     ]
    }
   ],
   "source": [
    "x = -dh*p.isel(xt_ocean=np.arange(1391,1411))\n",
    "\n",
    "print x.sum('xt_ocean')"
   ]
  }
 ],
 "metadata": {
  "kernelspec": {
   "display_name": "Python [default]",
   "language": "python",
   "name": "python2"
  },
  "language_info": {
   "codemirror_mode": {
    "name": "ipython",
    "version": 2
   },
   "file_extension": ".py",
   "mimetype": "text/x-python",
   "name": "python",
   "nbconvert_exporter": "python",
   "pygments_lexer": "ipython2",
   "version": "2.7.13"
  }
 },
 "nbformat": 4,
 "nbformat_minor": 2
}
